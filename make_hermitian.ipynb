{
 "cells": [
  {
   "cell_type": "markdown",
   "id": "280d67f2",
   "metadata": {},
   "source": [
    "# Эрмитова Матрица\n",
    "\n",
    "**Определение:** Эрмитова матрица — это квадратная матрица, которая равна своей сопряжённой транспонированной ($A = A^H$).\n",
    "\n",
    "## Сопряжённая Транспонированная Матрица ($A^H$)\n",
    "\n",
    "Сопряжённая транспонированная матрица получается в два этапа:\n",
    "\n",
    "1.  **Транспонирование матрицы:** Меняются местами строки и столбцы исходной матрицы $A$, образуя матрицу $A^T$.\n",
    "    $$\n",
    "    A = \\begin{pmatrix}\n",
    "    a_{11} & a_{12} \\\\\n",
    "    a_{21} & a_{22}\n",
    "    \\end{pmatrix}\n",
    "    \\implies\n",
    "    A^T = \\begin{pmatrix}\n",
    "    a_{11} & a_{21} \\\\\n",
    "    a_{12} & a_{22}\n",
    "    \\end{pmatrix}\n",
    "    $$\n",
    "\n",
    "2.  **Комплексное сопряжение:** Каждый элемент полученной транспонированной матрицы заменяется на его комплексно сопряжённое значение. Если элемент $a_{ij}^T = x + yi$, то его комплексно сопряжённое значение равно $\\overline{a_{ij}^T} = x - yi$.\n",
    "    $$\n",
    "    A^T = \\begin{pmatrix}\n",
    "    x_{11} + y_{11}i & x_{21} + y_{21}i \\\\\n",
    "    x_{12} + y_{12}i & x_{22} + y_{22}i\n",
    "    \\end{pmatrix}\n",
    "    \\implies\n",
    "    A^H = \\begin{pmatrix}\n",
    "    x_{11} - y_{11}i & x_{21} - y_{21}i \\\\\n",
    "    x_{12} - y_{12}i & x_{22} - y_{22}i\n",
    "    \\end{pmatrix}\n",
    "    $$\n",
    "\n",
    "## Алгоритм Создания Эрмитовой Матрицы\n",
    "\n",
    "Для любой квадратной матрицы $A$ матрица $H = \\frac{1}{2}(A + A^H)$ будет эрмитовой.\n",
    "\n",
    "### Шаги Реализации:\n",
    "\n",
    "1.  **Транспонирование матрицы:** Для заданной квадратной матрицы $A$, найдите её транспонированную матрицу $A^T$, поменяв местами строки и столбцы.\n",
    "\n",
    "2.  **Комплексное сопряжение:** Найдите комплексно сопряжённую матрицу $A^H$ путём замены каждого элемента в $A^T$ на его комплексно сопряжённое значение.\n",
    "\n",
    "3.  **Сложение матриц:** Сложите исходную матрицу $A$ и её сопряжённую транспонированную $A^H$ поэлементно:\n",
    "    $$\n",
    "    (A + A^H)_{ij} = a_{ij} + (a^H)_{ij}\n",
    "    $$\n",
    "\n",
    "4.  **Умножение на скаляр:** Умножьте каждый элемент полученной матрицы $(A + A^H)$ на скаляр $\\frac{1}{2}$:\n",
    "    $$\n",
    "    H_{ij} = \\frac{1}{2}(a_{ij} + (a^H)_{ij})\n",
    "    $$\n",
    "\n",
    "Полученная матрица $H$ является эрмитовой."
   ]
  },
  {
   "cell_type": "code",
   "execution_count": 2,
   "id": "777841b1",
   "metadata": {},
   "outputs": [
    {
     "name": "stdout",
     "output_type": "stream",
     "text": [
      "['1.0+0.0j', '4.0-1.0j']\n",
      "['4.0+1.0j', '7.0+0.0j']\n"
     ]
    }
   ],
   "source": [
    "def transpose(matrix):\n",
    "    return [[matrix[j][i] for j in range(len(matrix))] for i in range(len(matrix[0]))]\n",
    "\n",
    "def conjugate(matrix):\n",
    "    return [[complex(elem.real, -elem.imag) for elem in row] for row in matrix]\n",
    "\n",
    "def add_matrices(a, b):\n",
    "    return [[a[i][j] + b[i][j] for j in range(len(a[0]))] for i in range(len(a))]\n",
    "\n",
    "def scalar_multiply(matrix, scalar):\n",
    "    return [[elem * scalar for elem in row] for row in matrix]\n",
    "\n",
    "def make_hermitian(matrix):\n",
    "    transposed = transpose(matrix)\n",
    "    adjoint = conjugate(transposed)\n",
    "    sum_matrix = add_matrices(matrix, adjoint)\n",
    "    return scalar_multiply(sum_matrix, 0.5)\n",
    "\n",
    "# Пример\n",
    "A = [[1+2j, 3+4j], [5+6j, 7+8j]]\n",
    "hermitian_A = make_hermitian(A)\n",
    "for row in hermitian_A:\n",
    "    print([f\"{elem.real:.1f}{elem.imag:+.1f}j\" for elem in row])"
   ]
  }
 ],
 "metadata": {
  "kernelspec": {
   "display_name": "Python 3",
   "language": "python",
   "name": "python3"
  },
  "language_info": {
   "codemirror_mode": {
    "name": "ipython",
    "version": 3
   },
   "file_extension": ".py",
   "mimetype": "text/x-python",
   "name": "python",
   "nbconvert_exporter": "python",
   "pygments_lexer": "ipython3",
   "version": "3.13.3"
  }
 },
 "nbformat": 4,
 "nbformat_minor": 5
}
