{
 "cells": [
  {
   "cell_type": "markdown",
   "id": "8d814f6b",
   "metadata": {},
   "source": [
    "## LLL-алгоритм редукции базиса решётки\n",
    "\n",
    "LLL-алгоритм последовательно редуцирует базис решётки, стремясь сделать векторы базиса как можно короче при сохранении целочисленности линейных комбинаций.\n",
    "\n",
    "### Основные этапы алгоритма\n",
    "\n",
    "1.  **Ортогонализация Грама–Шмидта:**\n",
    "    Для текущего базиса вычисляются ортогональные векторы $b_i^*$ и коэффициенты проекции $\\mu_{i,j}$:\n",
    "    $$\\mu_{i,j} = \\frac{(b_i, b_j^*)}{(b_j^*, b_j^*)}$$\n",
    "\n",
    "2.  **Уменьшение (Size Reduction):**\n",
    "    Для каждого вектора $b_k$ выполняются вычитания целочисленных кратных предыдущих векторов так, чтобы все коэффициенты $\\mu_{k,j}$ были близки к нулю:\n",
    "    $$|\\mu_{k,j}| \\le 0.5$$\n",
    "\n",
    "3.  **Проверка условия Ловаса:**\n",
    "    Если квадрат нормы текущего ортогонального вектора $|b_k^*|^2$ меньше чем $(\\delta - \\mu_{k,k-1}^2)|b_{k-1}^*|^2$, где $\\delta$ - параметр (обычно $\\delta = 0.75$), то векторы $b_k$ и $b_{k-1}$ меняются местами, и индекс $k$ уменьшается. В противном случае индекс $k$ увеличивается.\n",
    "\n",
    "4.  **Повторение шагов:**\n",
    "    Шаги 1-3 повторяются до тех пор, пока для всего базиса не будет выполнено условие Ловаса. В этот момент базис считается «LLL-редуцированным».\n",
    "\n",
    "### Свойства LLL-редуцированного базиса\n",
    "\n",
    "LLL-редукция гарантирует, что полученные векторы базиса:\n",
    "\n",
    "* Почти ортогональны.\n",
    "* Достаточно коротки."
   ]
  },
  {
   "cell_type": "code",
   "execution_count": 39,
   "id": "7b99cf74",
   "metadata": {},
   "outputs": [],
   "source": [
    "import numpy as np\n",
    "\n",
    "def gram_schmidt(B):\n",
    "    B = np.array(B, dtype=float)\n",
    "    n = B.shape[0]\n",
    "    m = B.shape[1]\n",
    "    B_star = np.zeros((n, m))\n",
    "    mu = np.zeros((n, n))\n",
    "    B_norm = np.zeros(n)\n",
    "    for i in range(n):\n",
    "        v = B[i].copy()\n",
    "        for j in range(i):\n",
    "            mu[i, j] = np.dot(v, B_star[j]) / B_norm[j]\n",
    "            v = v - mu[i, j] * B_star[j]\n",
    "        B_star[i] = v\n",
    "        B_norm[i] = np.dot(v, v)\n",
    "    return B_star, mu, B_norm\n",
    "\n",
    "def lll_reduction(B, delta=0.75):\n",
    "    B = np.array(B, dtype=float)\n",
    "    n = B.shape[0]\n",
    "    B_star, mu, B_norm = gram_schmidt(B)\n",
    "    k = 1\n",
    "    while k < n:\n",
    "        for j in range(k-1, -1, -1):\n",
    "            q = round(mu[k, j])\n",
    "            if q != 0:\n",
    "                B[k] -= q * B[j]\n",
    "        B_star, mu, B_norm = gram_schmidt(B)\n",
    "        if B_norm[k] < (delta - mu[k, k-1]**2) * B_norm[k-1]:\n",
    "            B[[k, k-1]] = B[[k-1, k]]\n",
    "            k = max(k-1, 1)\n",
    "            B_star, mu, B_norm = gram_schmidt(B)\n",
    "        else:\n",
    "            k += 1\n",
    "    return B\n"
   ]
  },
  {
   "cell_type": "code",
   "execution_count": 40,
   "id": "afcb4b03",
   "metadata": {},
   "outputs": [
    {
     "name": "stdout",
     "output_type": "stream",
     "text": [
      "[[ 0.  1.  0.]\n",
      " [ 1.  0.  1.]\n",
      " [-1.  0.  2.]]\n"
     ]
    }
   ],
   "source": [
    "basis = [[1, 1, 1], [-1, 0, 2], [3, 5, 6]]  # базис матрицы (столбцами)\n",
    "reduced = lll_reduction(basis, delta=0.75)\n",
    "print(reduced)\n",
    "\n"
   ]
  }
 ],
 "metadata": {
  "kernelspec": {
   "display_name": "Python 3",
   "language": "python",
   "name": "python3"
  },
  "language_info": {
   "codemirror_mode": {
    "name": "ipython",
    "version": 3
   },
   "file_extension": ".py",
   "mimetype": "text/x-python",
   "name": "python",
   "nbconvert_exporter": "python",
   "pygments_lexer": "ipython3",
   "version": "3.13.3"
  }
 },
 "nbformat": 4,
 "nbformat_minor": 5
}
